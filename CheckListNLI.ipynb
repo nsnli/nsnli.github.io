{
 "cells": [
  {
   "cell_type": "code",
   "execution_count": null,
   "id": "tracked-elephant",
   "metadata": {},
   "outputs": [],
   "source": [
    "import checklist\n",
    "from checklist.editor import Editor\n",
    "import random"
   ]
  },
  {
   "cell_type": "code",
   "execution_count": null,
   "id": "humanitarian-greeting",
   "metadata": {},
   "outputs": [],
   "source": [
    "editor = Editor()\n",
    "print (editor.lexicons.keys())"
   ]
  },
  {
   "cell_type": "code",
   "execution_count": null,
   "id": "appropriate-importance",
   "metadata": {},
   "outputs": [],
   "source": [
    "# As per requirement we can add more lexicons to checklist as shown below\n",
    "\n",
    "editor.lexicons['profession'] = ['writer', 'author', 'engineer', 'teacher', 'physician', 'accountant',\n",
    "                                 'architect', 'lawyer', 'electrician', 'librarian', 'cook', 'secretary',\n",
    "                                 'dentist', 'dietitian', 'mechanic', 'chef', 'actor', 'plumber', 'firefighter',\n",
    "                                 'aviator', 'designer', 'police officer', 'journalist', 'hairdresser', 'artist',\n",
    "                                 'economist', 'tailor', 'butler', 'farmer', 'judge', 'lecturer', 'professor',\n",
    "                                 'model', 'nurse', 'photographer', 'scientist']\n",
    "\n",
    "# The 'first_name' lexicon contains 200 names. For illustration let's just use 20\n",
    "editor.lexicons['name'] = editor.lexicons['first_name'][:20]"
   ]
  },
  {
   "cell_type": "code",
   "execution_count": null,
   "id": "gentle-father",
   "metadata": {},
   "outputs": [],
   "source": [
    "# example of ordered resolution (boolean) template with label entailment\n",
    "out = editor.template('P: {name1} and {name2} are {a:profession1} and {a:profession2} respectively H: {name1} is {a:profession1}')\n",
    "\n",
    "# editor.template creates a cross product of all choices for placeholders. Let's sample 10 examples from this\n",
    "random.shuffle(out.data)\n",
    "examples = out.data[:10]\n",
    "for i in range(len(examples)):\n",
    "    print ('entailment ' + examples[i])\n",
    "    \n",
    "# similarly the above template can be modified to create contradiction\n",
    "out = editor.template('P: {name1} and {name2} are {a:profession1} and {a:profession2} respectively H: {name1} is {a:profession2}')\n",
    "\n",
    "random.shuffle(out.data)\n",
    "examples = out.data[:10]\n",
    "for i in range(len(examples)):\n",
    "    print ('contradiction ' + examples[i])\n"
   ]
  },
  {
   "cell_type": "code",
   "execution_count": null,
   "id": "arbitrary-technique",
   "metadata": {},
   "outputs": [],
   "source": [
    "# It is not necessary to use the editor.template construct. One can simply create templates shown below\n",
    "data = []\n",
    "for i in range(10):\n",
    "    name1, name2 = random.sample(editor.lexicons['name'], 2)\n",
    "    n1, n2 = random.sample(range(1,21), 2)\n",
    "    if n1 < n2:\n",
    "        data.append('P: {:s} has {:d} coins. {:s} has {:d} coins. H: {:s} has more coins than {:s}'.format(name1, n1, name2, n2, name2, name1))\n",
    "    else:\n",
    "        data.append('P: {:s} has {:d} coins. {:s} has {:d} coins. H: {:s} has more coins than {:s}'.format(name1, n1, name2, n2, name1, name2))\n",
    "\n",
    "for i in range(len(data)):\n",
    "    print ('entailment ' + data[i])"
   ]
  },
  {
   "cell_type": "code",
   "execution_count": null,
   "id": "false-wrestling",
   "metadata": {},
   "outputs": [],
   "source": [
    "editor.lexicons['tuple'] = [\n",
    "    ('smart','smarter','smartest'),\n",
    "    ('pretty','prettier','prettiest'),\n",
    "    ('tall','taller','tallest'),\n",
    "    ('generous', 'more generous', 'most generous'),\n",
    "]\n",
    "\n",
    "data = []\n",
    "for i in range(10):\n",
    "    name1, name2, name3 = random.sample(editor.lexicons['name'], 3)\n",
    "    (adj, com_adj, sup_adj) = random.choice(editor.lexicons['tuple'])\n",
    "    data.append('P: {:s} is {:s} than {:s}. {:s} is {:s} than {:s}. H: {:s} is {:s} than {:s}'.format(name1, com_adj, name2, name2, com_adj, name3, name1, com_adj, name3))\n",
    "    \n",
    "for i in range(len(data)):\n",
    "    print ('entailment ' + data[i])\n",
    "    \n",
    "data = []\n",
    "for i in range(10):\n",
    "    name1, name2, name3 = random.sample(editor.lexicons['name'], 3)\n",
    "    (adj, com_adj, sup_adj) = random.choice(editor.lexicons['tuple'])\n",
    "    data.append('P: {:s} is {:s} than {:s}. {:s} is {:s} than {:s}. H: {:s} is {:s} than {:s}'.format(name1, com_adj, name2, name1, com_adj, name3, name2, com_adj, name3))\n",
    "    \n",
    "for i in range(len(data)):\n",
    "    print ('neutral ' + data[i])\n",
    "    \n",
    "data = []\n",
    "for i in range(10):\n",
    "    name1, name2, name3 = random.sample(editor.lexicons['name'], 3)\n",
    "    (adj, com_adj, sup_adj) = random.choice(editor.lexicons['tuple'])\n",
    "    data.append('P: Among {:s}, {:s} and {:s}, {:s} is the {:s}. H: {:s} is {:s} than {:s}'.format(name1, name2, name3, name1, sup_adj, name1, com_adj, name3))\n",
    "    \n",
    "for i in range(len(data)):\n",
    "    print ('entailment ' + data[i])"
   ]
  },
  {
   "cell_type": "code",
   "execution_count": null,
   "id": "developed-adoption",
   "metadata": {},
   "outputs": [],
   "source": []
  }
 ],
 "metadata": {
  "kernelspec": {
   "display_name": "Python 3",
   "language": "python",
   "name": "python3"
  },
  "language_info": {
   "codemirror_mode": {
    "name": "ipython",
    "version": 3
   },
   "file_extension": ".py",
   "mimetype": "text/x-python",
   "name": "python",
   "nbconvert_exporter": "python",
   "pygments_lexer": "ipython3",
   "version": "3.9.2"
  }
 },
 "nbformat": 4,
 "nbformat_minor": 5
}
